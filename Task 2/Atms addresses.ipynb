{
 "cells": [
  {
   "cell_type": "code",
   "execution_count": 14,
   "id": "ecc44ac1",
   "metadata": {},
   "outputs": [
    {
     "ename": "AttributeError",
     "evalue": "partially initialized module 'pandas' has no attribute 'core' (most likely due to a circular import)",
     "output_type": "error",
     "traceback": [
      "\u001b[1;31m---------------------------------------------------------------------------\u001b[0m",
      "\u001b[1;31mAttributeError\u001b[0m                            Traceback (most recent call last)",
      "\u001b[1;32m~\\AppData\\Local\\Temp\\ipykernel_13432\\1428030430.py\u001b[0m in \u001b[0;36m<module>\u001b[1;34m\u001b[0m\n\u001b[1;32m----> 1\u001b[1;33m \u001b[1;32mimport\u001b[0m \u001b[0mgeopandas\u001b[0m \u001b[1;32mas\u001b[0m \u001b[0mgpd\u001b[0m\u001b[1;33m\u001b[0m\u001b[1;33m\u001b[0m\u001b[0m\n\u001b[0m\u001b[0;32m      2\u001b[0m \u001b[1;32mimport\u001b[0m \u001b[0mpandas\u001b[0m \u001b[1;32mas\u001b[0m \u001b[0mpd\u001b[0m\u001b[1;33m\u001b[0m\u001b[1;33m\u001b[0m\u001b[0m\n\u001b[0;32m      3\u001b[0m \u001b[1;32mfrom\u001b[0m \u001b[0mshapely\u001b[0m\u001b[1;33m.\u001b[0m\u001b[0mgeometry\u001b[0m \u001b[1;32mimport\u001b[0m \u001b[0mPoint\u001b[0m\u001b[1;33m\u001b[0m\u001b[1;33m\u001b[0m\u001b[0m\n",
      "\u001b[1;32m~\\anaconda3\\lib\\site-packages\\geopandas\\__init__.py\u001b[0m in \u001b[0;36m<module>\u001b[1;34m\u001b[0m\n\u001b[1;32m----> 1\u001b[1;33m \u001b[1;32mfrom\u001b[0m \u001b[0mgeopandas\u001b[0m\u001b[1;33m.\u001b[0m\u001b[0m_config\u001b[0m \u001b[1;32mimport\u001b[0m \u001b[0moptions\u001b[0m  \u001b[1;31m# noqa\u001b[0m\u001b[1;33m\u001b[0m\u001b[1;33m\u001b[0m\u001b[0m\n\u001b[0m\u001b[0;32m      2\u001b[0m \u001b[1;33m\u001b[0m\u001b[0m\n\u001b[0;32m      3\u001b[0m \u001b[1;32mfrom\u001b[0m \u001b[0mgeopandas\u001b[0m\u001b[1;33m.\u001b[0m\u001b[0mgeoseries\u001b[0m \u001b[1;32mimport\u001b[0m \u001b[0mGeoSeries\u001b[0m  \u001b[1;31m# noqa\u001b[0m\u001b[1;33m\u001b[0m\u001b[1;33m\u001b[0m\u001b[0m\n\u001b[0;32m      4\u001b[0m \u001b[1;32mfrom\u001b[0m \u001b[0mgeopandas\u001b[0m\u001b[1;33m.\u001b[0m\u001b[0mgeodataframe\u001b[0m \u001b[1;32mimport\u001b[0m \u001b[0mGeoDataFrame\u001b[0m  \u001b[1;31m# noqa\u001b[0m\u001b[1;33m\u001b[0m\u001b[1;33m\u001b[0m\u001b[0m\n\u001b[0;32m      5\u001b[0m \u001b[1;32mfrom\u001b[0m \u001b[0mgeopandas\u001b[0m\u001b[1;33m.\u001b[0m\u001b[0marray\u001b[0m \u001b[1;32mimport\u001b[0m \u001b[0mpoints_from_xy\u001b[0m  \u001b[1;31m# noqa\u001b[0m\u001b[1;33m\u001b[0m\u001b[1;33m\u001b[0m\u001b[0m\n",
      "\u001b[1;32m~\\anaconda3\\lib\\site-packages\\geopandas\\_config.py\u001b[0m in \u001b[0;36m<module>\u001b[1;34m\u001b[0m\n\u001b[0;32m    107\u001b[0m use_pygeos = Option(\n\u001b[0;32m    108\u001b[0m     \u001b[0mkey\u001b[0m\u001b[1;33m=\u001b[0m\u001b[1;34m\"use_pygeos\"\u001b[0m\u001b[1;33m,\u001b[0m\u001b[1;33m\u001b[0m\u001b[1;33m\u001b[0m\u001b[0m\n\u001b[1;32m--> 109\u001b[1;33m     \u001b[0mdefault_value\u001b[0m\u001b[1;33m=\u001b[0m\u001b[0m_default_use_pygeos\u001b[0m\u001b[1;33m(\u001b[0m\u001b[1;33m)\u001b[0m\u001b[1;33m,\u001b[0m\u001b[1;33m\u001b[0m\u001b[1;33m\u001b[0m\u001b[0m\n\u001b[0m\u001b[0;32m    110\u001b[0m     doc=(\n\u001b[0;32m    111\u001b[0m         \u001b[1;34m\"Whether to use PyGEOS to speed up spatial operations. The default is True \"\u001b[0m\u001b[1;33m\u001b[0m\u001b[1;33m\u001b[0m\u001b[0m\n",
      "\u001b[1;32m~\\anaconda3\\lib\\site-packages\\geopandas\\_config.py\u001b[0m in \u001b[0;36m_default_use_pygeos\u001b[1;34m()\u001b[0m\n\u001b[0;32m     93\u001b[0m \u001b[1;33m\u001b[0m\u001b[0m\n\u001b[0;32m     94\u001b[0m \u001b[1;32mdef\u001b[0m \u001b[0m_default_use_pygeos\u001b[0m\u001b[1;33m(\u001b[0m\u001b[1;33m)\u001b[0m\u001b[1;33m:\u001b[0m\u001b[1;33m\u001b[0m\u001b[1;33m\u001b[0m\u001b[0m\n\u001b[1;32m---> 95\u001b[1;33m     \u001b[1;32mimport\u001b[0m \u001b[0mgeopandas\u001b[0m\u001b[1;33m.\u001b[0m\u001b[0m_compat\u001b[0m \u001b[1;32mas\u001b[0m \u001b[0mcompat\u001b[0m\u001b[1;33m\u001b[0m\u001b[1;33m\u001b[0m\u001b[0m\n\u001b[0m\u001b[0;32m     96\u001b[0m \u001b[1;33m\u001b[0m\u001b[0m\n\u001b[0;32m     97\u001b[0m     \u001b[1;32mreturn\u001b[0m \u001b[0mcompat\u001b[0m\u001b[1;33m.\u001b[0m\u001b[0mUSE_PYGEOS\u001b[0m\u001b[1;33m\u001b[0m\u001b[1;33m\u001b[0m\u001b[0m\n",
      "\u001b[1;32m~\\anaconda3\\lib\\site-packages\\geopandas\\_compat.py\u001b[0m in \u001b[0;36m<module>\u001b[1;34m\u001b[0m\n\u001b[0;32m      6\u001b[0m \u001b[1;33m\u001b[0m\u001b[0m\n\u001b[0;32m      7\u001b[0m \u001b[1;32mimport\u001b[0m \u001b[0mnumpy\u001b[0m \u001b[1;32mas\u001b[0m \u001b[0mnp\u001b[0m\u001b[1;33m\u001b[0m\u001b[1;33m\u001b[0m\u001b[0m\n\u001b[1;32m----> 8\u001b[1;33m \u001b[1;32mimport\u001b[0m \u001b[0mpandas\u001b[0m \u001b[1;32mas\u001b[0m \u001b[0mpd\u001b[0m\u001b[1;33m\u001b[0m\u001b[1;33m\u001b[0m\u001b[0m\n\u001b[0m\u001b[0;32m      9\u001b[0m \u001b[1;32mimport\u001b[0m \u001b[0mpyproj\u001b[0m\u001b[1;33m\u001b[0m\u001b[1;33m\u001b[0m\u001b[0m\n\u001b[0;32m     10\u001b[0m \u001b[1;32mimport\u001b[0m \u001b[0mshapely\u001b[0m\u001b[1;33m\u001b[0m\u001b[1;33m\u001b[0m\u001b[0m\n",
      "\u001b[1;32m~\\anaconda3\\lib\\site-packages\\pandas\\__init__.py\u001b[0m in \u001b[0;36m<module>\u001b[1;34m\u001b[0m\n\u001b[0;32m    133\u001b[0m )\n\u001b[0;32m    134\u001b[0m \u001b[1;33m\u001b[0m\u001b[0m\n\u001b[1;32m--> 135\u001b[1;33m \u001b[1;32mfrom\u001b[0m \u001b[0mpandas\u001b[0m \u001b[1;32mimport\u001b[0m \u001b[0mapi\u001b[0m\u001b[1;33m,\u001b[0m \u001b[0marrays\u001b[0m\u001b[1;33m,\u001b[0m \u001b[0merrors\u001b[0m\u001b[1;33m,\u001b[0m \u001b[0mio\u001b[0m\u001b[1;33m,\u001b[0m \u001b[0mplotting\u001b[0m\u001b[1;33m,\u001b[0m \u001b[0mtesting\u001b[0m\u001b[1;33m,\u001b[0m \u001b[0mtseries\u001b[0m\u001b[1;33m\u001b[0m\u001b[1;33m\u001b[0m\u001b[0m\n\u001b[0m\u001b[0;32m    136\u001b[0m \u001b[1;32mfrom\u001b[0m \u001b[0mpandas\u001b[0m\u001b[1;33m.\u001b[0m\u001b[0mutil\u001b[0m\u001b[1;33m.\u001b[0m\u001b[0m_print_versions\u001b[0m \u001b[1;32mimport\u001b[0m \u001b[0mshow_versions\u001b[0m\u001b[1;33m\u001b[0m\u001b[1;33m\u001b[0m\u001b[0m\n\u001b[0;32m    137\u001b[0m \u001b[1;33m\u001b[0m\u001b[0m\n",
      "\u001b[1;32m~\\anaconda3\\lib\\site-packages\\pandas\\testing.py\u001b[0m in \u001b[0;36m<module>\u001b[1;34m\u001b[0m\n\u001b[0;32m      4\u001b[0m \u001b[1;33m\u001b[0m\u001b[0m\n\u001b[0;32m      5\u001b[0m \u001b[1;33m\u001b[0m\u001b[0m\n\u001b[1;32m----> 6\u001b[1;33m from pandas._testing import (\n\u001b[0m\u001b[0;32m      7\u001b[0m     \u001b[0massert_extension_array_equal\u001b[0m\u001b[1;33m,\u001b[0m\u001b[1;33m\u001b[0m\u001b[1;33m\u001b[0m\u001b[0m\n\u001b[0;32m      8\u001b[0m     \u001b[0massert_frame_equal\u001b[0m\u001b[1;33m,\u001b[0m\u001b[1;33m\u001b[0m\u001b[1;33m\u001b[0m\u001b[0m\n",
      "\u001b[1;32m~\\anaconda3\\lib\\site-packages\\pandas\\_testing\\__init__.py\u001b[0m in \u001b[0;36m<module>\u001b[1;34m\u001b[0m\n\u001b[0;32m    972\u001b[0m \u001b[1;33m\u001b[0m\u001b[0m\n\u001b[0;32m    973\u001b[0m \u001b[1;33m\u001b[0m\u001b[0m\n\u001b[1;32m--> 974\u001b[1;33m \u001b[0mcython_table\u001b[0m \u001b[1;33m=\u001b[0m \u001b[0mpd\u001b[0m\u001b[1;33m.\u001b[0m\u001b[0mcore\u001b[0m\u001b[1;33m.\u001b[0m\u001b[0mcommon\u001b[0m\u001b[1;33m.\u001b[0m\u001b[0m_cython_table\u001b[0m\u001b[1;33m.\u001b[0m\u001b[0mitems\u001b[0m\u001b[1;33m(\u001b[0m\u001b[1;33m)\u001b[0m\u001b[1;33m\u001b[0m\u001b[1;33m\u001b[0m\u001b[0m\n\u001b[0m\u001b[0;32m    975\u001b[0m \u001b[1;33m\u001b[0m\u001b[0m\n\u001b[0;32m    976\u001b[0m \u001b[1;33m\u001b[0m\u001b[0m\n",
      "\u001b[1;31mAttributeError\u001b[0m: partially initialized module 'pandas' has no attribute 'core' (most likely due to a circular import)"
     ]
    }
   ],
   "source": [
    "import geopandas as gpd\n",
    "import pandas as pd\n",
    "from shapely.geometry import Point"
   ]
  },
  {
   "cell_type": "code",
   "execution_count": 7,
   "id": "b9f76a8c",
   "metadata": {},
   "outputs": [],
   "source": [
    "import numpy as np"
   ]
  },
  {
   "cell_type": "markdown",
   "id": "18361811",
   "metadata": {},
   "source": [
    "# Reading Data:-"
   ]
  },
  {
   "cell_type": "code",
   "execution_count": 8,
   "id": "6d59f936",
   "metadata": {
    "scrolled": false
   },
   "outputs": [
    {
     "ename": "NameError",
     "evalue": "name 'pd' is not defined",
     "output_type": "error",
     "traceback": [
      "\u001b[1;31m---------------------------------------------------------------------------\u001b[0m",
      "\u001b[1;31mNameError\u001b[0m                                 Traceback (most recent call last)",
      "\u001b[1;32m~\\AppData\\Local\\Temp\\ipykernel_13432\\3752806072.py\u001b[0m in \u001b[0;36m<module>\u001b[1;34m\u001b[0m\n\u001b[1;32m----> 1\u001b[1;33m \u001b[0mpoints\u001b[0m \u001b[1;33m=\u001b[0m \u001b[0mpd\u001b[0m\u001b[1;33m.\u001b[0m\u001b[0mread_excel\u001b[0m\u001b[1;33m(\u001b[0m\u001b[1;34m'BanquMisrAtmsLocation.xlsx'\u001b[0m\u001b[1;33m)\u001b[0m\u001b[1;33m\u001b[0m\u001b[1;33m\u001b[0m\u001b[0m\n\u001b[0m\u001b[0;32m      2\u001b[0m \u001b[0mpoints\u001b[0m\u001b[1;33m.\u001b[0m\u001b[0mhead\u001b[0m\u001b[1;33m(\u001b[0m\u001b[1;33m)\u001b[0m\u001b[1;33m\u001b[0m\u001b[1;33m\u001b[0m\u001b[0m\n",
      "\u001b[1;31mNameError\u001b[0m: name 'pd' is not defined"
     ]
    }
   ],
   "source": [
    "points = pd.read_excel('BanquMisrAtmsLocation.xlsx')\n",
    "points.head()"
   ]
  },
  {
   "cell_type": "code",
   "execution_count": 5,
   "id": "9320cc9c",
   "metadata": {},
   "outputs": [
    {
     "data": {
      "text/plain": [
       "(4280, 5)"
      ]
     },
     "execution_count": 5,
     "metadata": {},
     "output_type": "execute_result"
    }
   ],
   "source": [
    "points.shape"
   ]
  },
  {
   "cell_type": "markdown",
   "id": "89a2b0ef",
   "metadata": {},
   "source": [
    "# Reading shapefile:-"
   ]
  },
  {
   "cell_type": "code",
   "execution_count": 8,
   "id": "2e7d0b62",
   "metadata": {
    "scrolled": true
   },
   "outputs": [
    {
     "data": {
      "text/html": [
       "<div>\n",
       "<style scoped>\n",
       "    .dataframe tbody tr th:only-of-type {\n",
       "        vertical-align: middle;\n",
       "    }\n",
       "\n",
       "    .dataframe tbody tr th {\n",
       "        vertical-align: top;\n",
       "    }\n",
       "\n",
       "    .dataframe thead th {\n",
       "        text-align: right;\n",
       "    }\n",
       "</style>\n",
       "<table border=\"1\" class=\"dataframe\">\n",
       "  <thead>\n",
       "    <tr style=\"text-align: right;\">\n",
       "      <th></th>\n",
       "      <th>NAME_1</th>\n",
       "      <th>NAME_2</th>\n",
       "      <th>TYPE_2</th>\n",
       "      <th>geometry</th>\n",
       "    </tr>\n",
       "  </thead>\n",
       "  <tbody>\n",
       "    <tr>\n",
       "      <th>0</th>\n",
       "      <td>Ad Daqahliyah</td>\n",
       "      <td>Aja</td>\n",
       "      <td>Markaz</td>\n",
       "      <td>POLYGON ((31.23156 30.80004, 31.21846 30.83202...</td>\n",
       "    </tr>\n",
       "    <tr>\n",
       "      <th>1</th>\n",
       "      <td>Ad Daqahliyah</td>\n",
       "      <td>Al-Jamaliyah</td>\n",
       "      <td>Kism</td>\n",
       "      <td>POLYGON ((31.99799 31.22747, 31.98231 31.22915...</td>\n",
       "    </tr>\n",
       "    <tr>\n",
       "      <th>2</th>\n",
       "      <td>Ad Daqahliyah</td>\n",
       "      <td>Al-Mansurah 1</td>\n",
       "      <td>Kism</td>\n",
       "      <td>POLYGON ((31.37186 31.04893, 31.39912 31.05791...</td>\n",
       "    </tr>\n",
       "    <tr>\n",
       "      <th>3</th>\n",
       "      <td>Ad Daqahliyah</td>\n",
       "      <td>Al-Mansurah 2\\r\\n</td>\n",
       "      <td>None</td>\n",
       "      <td>POLYGON ((31.39912 31.05791, 31.41530 31.08193...</td>\n",
       "    </tr>\n",
       "    <tr>\n",
       "      <th>4</th>\n",
       "      <td>Ad Daqahliyah</td>\n",
       "      <td>Al-Mansurah</td>\n",
       "      <td>Markaz</td>\n",
       "      <td>POLYGON ((31.60274 30.99705, 31.55927 30.96840...</td>\n",
       "    </tr>\n",
       "  </tbody>\n",
       "</table>\n",
       "</div>"
      ],
      "text/plain": [
       "          NAME_1             NAME_2  TYPE_2  \\\n",
       "0  Ad Daqahliyah                Aja  Markaz   \n",
       "1  Ad Daqahliyah       Al-Jamaliyah    Kism   \n",
       "2  Ad Daqahliyah      Al-Mansurah 1    Kism   \n",
       "3  Ad Daqahliyah  Al-Mansurah 2\\r\\n    None   \n",
       "4  Ad Daqahliyah        Al-Mansurah  Markaz   \n",
       "\n",
       "                                            geometry  \n",
       "0  POLYGON ((31.23156 30.80004, 31.21846 30.83202...  \n",
       "1  POLYGON ((31.99799 31.22747, 31.98231 31.22915...  \n",
       "2  POLYGON ((31.37186 31.04893, 31.39912 31.05791...  \n",
       "3  POLYGON ((31.39912 31.05791, 31.41530 31.08193...  \n",
       "4  POLYGON ((31.60274 30.99705, 31.55927 30.96840...  "
      ]
     },
     "execution_count": 8,
     "metadata": {},
     "output_type": "execute_result"
    }
   ],
   "source": [
    "df = gpd.read_file('admin/EGY_adm2.shp')\n",
    "df = df[['NAME_1', 'NAME_2', 'TYPE_2', 'geometry']]\n",
    "df.head()"
   ]
  },
  {
   "cell_type": "code",
   "execution_count": 9,
   "id": "0ad0a0c5",
   "metadata": {},
   "outputs": [
    {
     "data": {
      "text/plain": [
       "NAME_1      0\n",
       "NAME_2      0\n",
       "TYPE_2      3\n",
       "geometry    0\n",
       "dtype: int64"
      ]
     },
     "execution_count": 9,
     "metadata": {},
     "output_type": "execute_result"
    }
   ],
   "source": [
    "df.isnull().sum()"
   ]
  },
  {
   "cell_type": "code",
   "execution_count": 10,
   "id": "9664c422",
   "metadata": {
    "scrolled": true
   },
   "outputs": [
    {
     "data": {
      "text/plain": [
       "<AxesSubplot:>"
      ]
     },
     "execution_count": 10,
     "metadata": {},
     "output_type": "execute_result"
    },
    {
     "data": {
      "image/png": "[encoded data removed]",
      "text/plain": [
       "<Figure size 432x288 with 1 Axes>"
      ]
     },
     "metadata": {
      "needs_background": "light"
     },
     "output_type": "display_data"
    }
   ],
   "source": [
    "df['geometry'].plot()"
   ]
  },
  {
   "cell_type": "markdown",
   "id": "6910f151",
   "metadata": {},
   "source": [
    "# finding the polygon that contain each point"
   ]
  },
  {
   "cell_type": "code",
   "execution_count": 11,
   "id": "7dcf613c",
   "metadata": {},
   "outputs": [],
   "source": [
    "def isin(polygon, x,y):\n",
    "    poly = polygon\n",
    "    point = Point(y, x)\n",
    "    if poly.contains(point):\n",
    "        return True\n",
    "    else:\n",
    "        return False"
   ]
  },
  {
   "cell_type": "code",
   "execution_count": 12,
   "id": "a3231d9c",
   "metadata": {},
   "outputs": [],
   "source": [
    "gov = []\n",
    "city = []\n",
    "mk = []\n",
    "long = []\n",
    "lat = []\n",
    "add = []\n",
    "nulls = []"
   ]
  },
  {
   "cell_type": "code",
   "execution_count": 13,
   "id": "b62aa47a",
   "metadata": {},
   "outputs": [],
   "source": [
    "z = 0\n",
    "ycnt = 0\n",
    "ncnt = 0\n",
    "for p in range(len(points)):\n",
    "    z = 0\n",
    "    for i,pol in enumerate(df['geometry'].values):\n",
    "        if(isin(pol, points['Lat'][p], points['Long'][p])):\n",
    "            z = 1\n",
    "            ycnt += 1\n",
    "            gov.append(df['NAME_1'][i])\n",
    "            city.append(df['NAME_2'][i])\n",
    "            mk.append(df['TYPE_2'][i])\n",
    "            add.append(points['locations__card__location'][p])\n",
    "            long.append(points['Long'][p])\n",
    "            lat.append(points['Lat'][p])\n",
    "            break\n",
    "    if z == 0:\n",
    "        nulls.append(p)\n",
    "        ncnt += 1\n",
    "        gov.append(np.nan)\n",
    "        city.append(np.nan)\n",
    "        mk.append(np.nan)\n",
    "        long.append(np.nan)\n",
    "        lat.append(np.nan)\n",
    "        add.append(np.nan)"
   ]
  },
  {
   "cell_type": "code",
   "execution_count": 14,
   "id": "6adbf78a",
   "metadata": {},
   "outputs": [
    {
     "data": {
      "text/plain": [
       "4280"
      ]
     },
     "execution_count": 14,
     "metadata": {},
     "output_type": "execute_result"
    }
   ],
   "source": [
    "len(gov)"
   ]
  },
  {
   "cell_type": "code",
   "execution_count": 15,
   "id": "8c301b70",
   "metadata": {},
   "outputs": [
    {
     "data": {
      "text/plain": [
       "[859, 876, 993, 1017, 1043]"
      ]
     },
     "execution_count": 15,
     "metadata": {},
     "output_type": "execute_result"
    }
   ],
   "source": [
    "nulls"
   ]
  },
  {
   "cell_type": "code",
   "execution_count": 16,
   "id": "97408eba",
   "metadata": {},
   "outputs": [
    {
     "data": {
      "text/plain": [
       "4275"
      ]
     },
     "execution_count": 16,
     "metadata": {},
     "output_type": "execute_result"
    }
   ],
   "source": [
    "ycnt"
   ]
  },
  {
   "cell_type": "code",
   "execution_count": 17,
   "id": "199440f9",
   "metadata": {},
   "outputs": [
    {
     "data": {
      "text/plain": [
       "5"
      ]
     },
     "execution_count": 17,
     "metadata": {},
     "output_type": "execute_result"
    }
   ],
   "source": [
    "ncnt"
   ]
  },
  {
   "cell_type": "code",
   "execution_count": 18,
   "id": "bb89efcf",
   "metadata": {},
   "outputs": [],
   "source": [
    "r = {}"
   ]
  },
  {
   "cell_type": "code",
   "execution_count": 19,
   "id": "d44dc6f9",
   "metadata": {},
   "outputs": [
    {
     "data": {
      "text/html": [
       "<div>\n",
       "<style scoped>\n",
       "    .dataframe tbody tr th:only-of-type {\n",
       "        vertical-align: middle;\n",
       "    }\n",
       "\n",
       "    .dataframe tbody tr th {\n",
       "        vertical-align: top;\n",
       "    }\n",
       "\n",
       "    .dataframe thead th {\n",
       "        text-align: right;\n",
       "    }\n",
       "</style>\n",
       "<table border=\"1\" class=\"dataframe\">\n",
       "  <thead>\n",
       "    <tr style=\"text-align: right;\">\n",
       "      <th></th>\n",
       "    </tr>\n",
       "  </thead>\n",
       "  <tbody>\n",
       "  </tbody>\n",
       "</table>\n",
       "</div>"
      ],
      "text/plain": [
       "Empty DataFrame\n",
       "Columns: []\n",
       "Index: []"
      ]
     },
     "execution_count": 19,
     "metadata": {},
     "output_type": "execute_result"
    }
   ],
   "source": [
    "res = pd.DataFrame(r)\n",
    "res.head()"
   ]
  },
  {
   "cell_type": "markdown",
   "id": "ef1bdc1b",
   "metadata": {},
   "source": [
    "# Creating new data frame with new columns:-"
   ]
  },
  {
   "cell_type": "code",
   "execution_count": 20,
   "id": "39709ac7",
   "metadata": {},
   "outputs": [],
   "source": [
    "res.insert(loc=0, column='governerate', value=gov)"
   ]
  },
  {
   "cell_type": "code",
   "execution_count": 21,
   "id": "f758e094",
   "metadata": {},
   "outputs": [],
   "source": [
    "res.insert(loc=1, column='City', value=city)\n",
    "res.insert(loc=2, column='Markaz_or_qesm', value=mk)\n",
    "res.insert(loc=3, column='Address', value=add)\n",
    "res.insert(loc=4, column='Lat', value=lat)\n",
    "res.insert(loc=5, column='Long', value=long)"
   ]
  },
  {
   "cell_type": "code",
   "execution_count": 22,
   "id": "47dde374",
   "metadata": {},
   "outputs": [
    {
     "data": {
      "text/html": [
       "<div>\n",
       "<style scoped>\n",
       "    .dataframe tbody tr th:only-of-type {\n",
       "        vertical-align: middle;\n",
       "    }\n",
       "\n",
       "    .dataframe tbody tr th {\n",
       "        vertical-align: top;\n",
       "    }\n",
       "\n",
       "    .dataframe thead th {\n",
       "        text-align: right;\n",
       "    }\n",
       "</style>\n",
       "<table border=\"1\" class=\"dataframe\">\n",
       "  <thead>\n",
       "    <tr style=\"text-align: right;\">\n",
       "      <th></th>\n",
       "      <th>governerate</th>\n",
       "      <th>City</th>\n",
       "      <th>Markaz_or_qesm</th>\n",
       "      <th>Lat</th>\n",
       "      <th>Long</th>\n",
       "    </tr>\n",
       "  </thead>\n",
       "  <tbody>\n",
       "    <tr>\n",
       "      <th>0</th>\n",
       "      <td>Al Fayyum</td>\n",
       "      <td>Al-Fayyum</td>\n",
       "      <td>Markaz</td>\n",
       "      <td>29.304412</td>\n",
       "      <td>30.853546</td>\n",
       "    </tr>\n",
       "    <tr>\n",
       "      <th>1</th>\n",
       "      <td>Al Fayyum</td>\n",
       "      <td>Al-Fayyum</td>\n",
       "      <td>Markaz</td>\n",
       "      <td>29.319696</td>\n",
       "      <td>30.835641</td>\n",
       "    </tr>\n",
       "    <tr>\n",
       "      <th>2</th>\n",
       "      <td>Al Fayyum</td>\n",
       "      <td>Al-Fayyum</td>\n",
       "      <td>Markaz</td>\n",
       "      <td>29.308199</td>\n",
       "      <td>30.842229</td>\n",
       "    </tr>\n",
       "    <tr>\n",
       "      <th>3</th>\n",
       "      <td>Al Fayyum</td>\n",
       "      <td>Sinnuris</td>\n",
       "      <td>Markaz</td>\n",
       "      <td>29.408575</td>\n",
       "      <td>30.865073</td>\n",
       "    </tr>\n",
       "    <tr>\n",
       "      <th>4</th>\n",
       "      <td>Al Fayyum</td>\n",
       "      <td>Itsa</td>\n",
       "      <td>Markaz</td>\n",
       "      <td>29.236966</td>\n",
       "      <td>30.790194</td>\n",
       "    </tr>\n",
       "  </tbody>\n",
       "</table>\n",
       "</div>"
      ],
      "text/plain": [
       "  governerate       City Markaz_or_qesm        Lat       Long\n",
       "0   Al Fayyum  Al-Fayyum         Markaz  29.304412  30.853546\n",
       "1   Al Fayyum  Al-Fayyum         Markaz  29.319696  30.835641\n",
       "2   Al Fayyum  Al-Fayyum         Markaz  29.308199  30.842229\n",
       "3   Al Fayyum   Sinnuris         Markaz  29.408575  30.865073\n",
       "4   Al Fayyum       Itsa         Markaz  29.236966  30.790194"
      ]
     },
     "execution_count": 22,
     "metadata": {},
     "output_type": "execute_result"
    }
   ],
   "source": [
    "res.head()"
   ]
  },
  {
   "cell_type": "code",
   "execution_count": 23,
   "id": "7921b6f7",
   "metadata": {},
   "outputs": [
    {
     "data": {
      "text/plain": [
       "(4280, 5)"
      ]
     },
     "execution_count": 23,
     "metadata": {},
     "output_type": "execute_result"
    }
   ],
   "source": [
    "res.shape"
   ]
  },
  {
   "cell_type": "code",
   "execution_count": 24,
   "id": "1a6cd1c2",
   "metadata": {
    "scrolled": true
   },
   "outputs": [
    {
     "data": {
      "text/plain": [
       "governerate        5\n",
       "City               5\n",
       "Markaz_or_qesm    31\n",
       "Lat                5\n",
       "Long               5\n",
       "dtype: int64"
      ]
     },
     "execution_count": 24,
     "metadata": {},
     "output_type": "execute_result"
    }
   ],
   "source": [
    "res.isnull().sum()"
   ]
  },
  {
   "cell_type": "markdown",
   "id": "95534115",
   "metadata": {},
   "source": [
    "## Dropping missing values"
   ]
  },
  {
   "cell_type": "code",
   "execution_count": 25,
   "id": "c9ff6cc0",
   "metadata": {},
   "outputs": [],
   "source": [
    "res.drop(index=nulls, inplace=True)"
   ]
  },
  {
   "cell_type": "code",
   "execution_count": 26,
   "id": "f7b38a37",
   "metadata": {
    "scrolled": true
   },
   "outputs": [
    {
     "data": {
      "text/plain": [
       "governerate        0\n",
       "City               0\n",
       "Markaz_or_qesm    26\n",
       "Lat                0\n",
       "Long               0\n",
       "dtype: int64"
      ]
     },
     "execution_count": 26,
     "metadata": {},
     "output_type": "execute_result"
    }
   ],
   "source": [
    "res.isnull().sum()"
   ]
  },
  {
   "cell_type": "code",
   "execution_count": 27,
   "id": "a7b855a4",
   "metadata": {},
   "outputs": [
    {
     "data": {
      "text/plain": [
       "4275"
      ]
     },
     "execution_count": 27,
     "metadata": {},
     "output_type": "execute_result"
    }
   ],
   "source": [
    "len(res)"
   ]
  },
  {
   "cell_type": "code",
   "execution_count": 28,
   "id": "c5aeab53",
   "metadata": {},
   "outputs": [],
   "source": [
    "res.to_excel('FinalResults.xlsx')"
   ]
  },
  {
   "cell_type": "code",
   "execution_count": null,
   "id": "95354102",
   "metadata": {},
   "outputs": [],
   "source": []
  }
 ],
 "metadata": {
  "kernelspec": {
   "display_name": "Python 3 (ipykernel)",
   "language": "python",
   "name": "python3"
  },
  "language_info": {
   "codemirror_mode": {
    "name": "ipython",
    "version": 3
   },
   "file_extension": ".py",
   "mimetype": "text/x-python",
   "name": "python",
   "nbconvert_exporter": "python",
   "pygments_lexer": "ipython3",
   "version": "3.9.7"
  }
 },
 "nbformat": 4,
 "nbformat_minor": 5
}
